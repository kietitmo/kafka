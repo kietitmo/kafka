{
 "cells": [
  {
   "cell_type": "code",
   "execution_count": 5,
   "metadata": {},
   "outputs": [],
   "source": [
    "import os\n",
    "from dotenv import load_dotenv, find_dotenv\n",
    "\n",
    "load_dotenv()\n",
    "\n",
    "# Postgres\n",
    "HOST = os.getenv('HOST')\n",
    "PORT =  os.getenv('PORT')\n",
    "TABLE = os.getenv('TABLE')\n",
    "DB_NAME = os.getenv('DB_NAME')\n",
    "DRIVER = os.getenv('DRIVER')\n",
    "USER = os.getenv('USER')\n",
    "PWD = os.getenv('PWD')"
   ]
  },
  {
   "cell_type": "code",
   "execution_count": 6,
   "metadata": {},
   "outputs": [],
   "source": [
    "import psycopg2\n",
    "\n",
    "def create_tables():\n",
    "    \"\"\" create tables in the PostgreSQL database\"\"\"\n",
    "    commands = (\n",
    "        f\"\"\"\n",
    "        CREATE TABLE public.{TABLE}\n",
    "        (\n",
    "            gender character varying,\n",
    "            first_name character varying,\n",
    "            last_name character varying,\n",
    "            city character varying,\n",
    "            country character varying,\n",
    "            email character varying,\n",
    "            username character varying,\n",
    "            registered_date timestamp,\n",
    "            dob timestamp,\n",
    "            phone character varying\n",
    "        );\n",
    "\n",
    "        ALTER TABLE public.{TABLE}\n",
    "            OWNER to {USER};\n",
    "        \"\"\",\n",
    "        )\n",
    "    conn = None\n",
    "    try:\n",
    "        conn = psycopg2.connect(f\"host={HOST} port={PORT} dbname={DB_NAME} user={USER} password={PWD}\")\n",
    "        cur = conn.cursor()\n",
    "        for command in commands:\n",
    "            cur.execute(command)\n",
    "        cur.close()\n",
    "        conn.commit()\n",
    "    except (Exception, psycopg2.DatabaseError) as error:\n",
    "        print(error)\n",
    "    finally:\n",
    "        if conn is not None:\n",
    "            conn.close()"
   ]
  },
  {
   "cell_type": "code",
   "execution_count": 7,
   "metadata": {},
   "outputs": [
    {
     "name": "stdout",
     "output_type": "stream",
     "text": [
      "relation \"user_db\" already exists\n",
      "\n"
     ]
    }
   ],
   "source": [
    "create_tables()"
   ]
  }
 ],
 "metadata": {
  "kernelspec": {
   "display_name": "Python 3",
   "language": "python",
   "name": "python3"
  },
  "language_info": {
   "codemirror_mode": {
    "name": "ipython",
    "version": 3
   },
   "file_extension": ".py",
   "mimetype": "text/x-python",
   "name": "python",
   "nbconvert_exporter": "python",
   "pygments_lexer": "ipython3",
   "version": "3.12.4"
  }
 },
 "nbformat": 4,
 "nbformat_minor": 2
}
